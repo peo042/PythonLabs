{
 "cells": [
  {
   "cell_type": "markdown",
   "metadata": {},
   "source": [
    "# Lab 01\n",
    "### Data Foundations  \n",
    "\n",
    "Instructions:\n",
    "1. Add the lines of code required to obtain the requested output.\n",
    "2. The code should be inserted between the tags:   \n",
    "  \n",
    "    <**Insert (modify) your code below**>  \n",
    "\n",
    "    #insert you code here  \n",
    "\n",
    "    <**Insert (modify) your code above**>  \n",
    "    \n",
    "3. Do not modify other parts of this notebook.  \n",
    "  \n",
    "4. Remember to write in your name and abc123 in the first cell of this notebook.\n",
    "  \n",
    "5. Upload the notebook on Blackboard before the deadline!\n",
    "________________________________________________________________________________"
   ]
  },
  {
   "cell_type": "markdown",
   "metadata": {},
   "source": [
    "# Introduction to Python I #  \n",
    "  \n",
    "**Week 1 - Python as a Calculator** \n",
    "\n",
    "Please write your Name and abc123 in the cell below"
   ]
  },
  {
   "cell_type": "code",
   "execution_count": 1,
   "metadata": {},
   "outputs": [],
   "source": [
    "# Your Name: Ben Hoffman\n",
    "# abc123: peo042"
   ]
  },
  {
   "cell_type": "markdown",
   "metadata": {},
   "source": [
    "## Excercise 1.1   \n",
    "Change Hello to Goodbye, then run the cell."
   ]
  },
  {
   "cell_type": "code",
   "execution_count": 2,
   "metadata": {},
   "outputs": [
    {
     "name": "stdout",
     "output_type": "stream",
     "text": [
      "Goodbye World!\n"
     ]
    }
   ],
   "source": [
    "#Insert/modify your code below\n",
    "print(\"Goodbye World!\")\n",
    "#Insert/modify your code above"
   ]
  },
  {
   "cell_type": "markdown",
   "metadata": {},
   "source": [
    "## Exercise 1.2  \n",
    "In the cell below, calculate the following expressions (cast to integers using int()):\n",
    "  \n",
    "| a | b|\n",
    "----|---- |\n",
    "| 12 + 4  | 12 + 5 |\n",
    "| 12 -4   | 12 - 5 |\n",
    "| 12 $\\times$ 4 | 12 $\\times$ 5 |\n",
    "| 12 $\\div$ 4 | 12 $\\div$ 5|\n",
    "| $12^4$ | $12^5$ |\n",
    "\n",
    "  \n"
   ]
  },
  {
   "cell_type": "code",
   "execution_count": 7,
   "metadata": {},
   "outputs": [
    {
     "name": "stdout",
     "output_type": "stream",
     "text": [
      "16 17\n",
      "8 7\n",
      "48 60\n",
      "3.0 2.4\n",
      "20736 248832\n",
      "7.0\n"
     ]
    },
    {
     "data": {
      "text/plain": [
       "True"
      ]
     },
     "execution_count": 7,
     "metadata": {},
     "output_type": "execute_result"
    }
   ],
   "source": [
    "#Insert/modify your code below\n",
    "print(12+4,12+5)\n",
    "print(12-4,12-5)\n",
    "print(12*4,12*5)\n",
    "print(12/4,12/5)\n",
    "print(12**4,12**5)\n",
    "print(14/2)\n",
    "\n",
    "a = 3\n",
    "\n",
    "tmp = 10 - 7\n",
    "\n",
    "limit = 10\n",
    "\n",
    "words = 5\n",
    "\n",
    "words < limit \n",
    "#Insert/modify your code above"
   ]
  },
  {
   "cell_type": "markdown",
   "metadata": {},
   "source": [
    "## Exercise 1.3\n",
    "  \n",
    "In the cell below, calculate the following expressions **one for each cell**:\n",
    "  \n",
    "1. 12.0 + 4.0\n",
    "2. 12.0 $\\\\div$ 4.0\n",
    "3. $25.0^{0.5}$\n",
    "4. $5.0^{-1.0}$\n",
    "5. 5.0 $\\\\div$ 2"
   ]
  },
  {
   "cell_type": "code",
   "execution_count": 4,
   "metadata": {},
   "outputs": [
    {
     "data": {
      "text/plain": [
       "16.0"
      ]
     },
     "execution_count": 4,
     "metadata": {},
     "output_type": "execute_result"
    }
   ],
   "source": [
    "# Expression 1\n",
    "#Insert/modify your code below\n",
    "12.0 + 4.0\n",
    "#Insert/modify your code above"
   ]
  },
  {
   "cell_type": "code",
   "execution_count": 5,
   "metadata": {},
   "outputs": [
    {
     "data": {
      "text/plain": [
       "3.0"
      ]
     },
     "execution_count": 5,
     "metadata": {},
     "output_type": "execute_result"
    }
   ],
   "source": [
    "# Expression 2\n",
    "#Insert/modify your code below\n",
    "12.0/4.0\n",
    "#Insert/modify your code above"
   ]
  },
  {
   "cell_type": "code",
   "execution_count": 6,
   "metadata": {},
   "outputs": [
    {
     "data": {
      "text/plain": [
       "5.0"
      ]
     },
     "execution_count": 6,
     "metadata": {},
     "output_type": "execute_result"
    }
   ],
   "source": [
    "# Expression 3\n",
    "#Insert/modify your code below\n",
    "25.0**0.5\n",
    "#Insert/modify your code above"
   ]
  },
  {
   "cell_type": "code",
   "execution_count": 7,
   "metadata": {},
   "outputs": [
    {
     "data": {
      "text/plain": [
       "0.2"
      ]
     },
     "execution_count": 7,
     "metadata": {},
     "output_type": "execute_result"
    }
   ],
   "source": [
    "# Expression 4\n",
    "#Insert/modify your code below\n",
    "5.0**-1.0\n",
    "#Insert/modify your code above"
   ]
  },
  {
   "cell_type": "code",
   "execution_count": 8,
   "metadata": {},
   "outputs": [
    {
     "data": {
      "text/plain": [
       "2.5"
      ]
     },
     "execution_count": 8,
     "metadata": {},
     "output_type": "execute_result"
    }
   ],
   "source": [
    "# Expression 5\n",
    "#Insert/modify your code below\n",
    "5.0/2\n",
    "#Insert/modify your code above"
   ]
  },
  {
   "cell_type": "markdown",
   "metadata": {},
   "source": [
    "## Exercise 1.4  \n",
    "    \n",
    "First, predict what the python result will be. Next, in the cell below, calculate the following expressions one at a time:\n",
    "   \n",
    "1. 'Hello, ' + \"world!\"\n",
    "2. 'Hello!' * 3\n",
    "3. '' * 10000000000 # two adjacent single quotes\n",
    "4. '4' + '2'"
   ]
  },
  {
   "cell_type": "code",
   "execution_count": 9,
   "metadata": {},
   "outputs": [
    {
     "data": {
      "text/plain": [
       "'42'"
      ]
     },
     "execution_count": 9,
     "metadata": {},
     "output_type": "execute_result"
    }
   ],
   "source": [
    "#Insert/modify your code below\n",
    "'4' + '2'\n",
    "#Insert/modify your code above"
   ]
  },
  {
   "cell_type": "markdown",
   "metadata": {},
   "source": [
    "## Exercise 1.5  \n",
    "    \n",
    "Try to answer the following questions before running the code:\n",
    "\n",
    "1. '4' * 3      #Is the output a number or a text?\n",
    "2. '4' + '3'    #Is the output a number or a text?"
   ]
  },
  {
   "cell_type": "code",
   "execution_count": 10,
   "metadata": {},
   "outputs": [
    {
     "data": {
      "text/plain": [
       "'444'"
      ]
     },
     "execution_count": 10,
     "metadata": {},
     "output_type": "execute_result"
    }
   ],
   "source": [
    "#Insert/modify your code below\n",
    "'4' *3\n",
    "#Insert/modify your code above"
   ]
  },
  {
   "cell_type": "code",
   "execution_count": 11,
   "metadata": {},
   "outputs": [
    {
     "data": {
      "text/plain": [
       "'43'"
      ]
     },
     "execution_count": 11,
     "metadata": {},
     "output_type": "execute_result"
    }
   ],
   "source": [
    "#Insert/modify your code below\n",
    "'4'+'3'\n",
    "#Insert/modify your code above"
   ]
  },
  {
   "cell_type": "markdown",
   "metadata": {},
   "source": [
    "## Exercise 1.6\n",
    "  \n",
    "Predict whether Python will print True or False before you type the following expressions.\\n\",\n",
    "  \n",
    "1. 1 > 2 or 2 > 1\n",
    "2. 1 > 2 or not 2 > 1\n",
    "3. not True\n",
    "4. 1 > 2 or True"
   ]
  },
  {
   "cell_type": "code",
   "execution_count": 12,
   "metadata": {},
   "outputs": [
    {
     "data": {
      "text/plain": [
       "True"
      ]
     },
     "execution_count": 12,
     "metadata": {},
     "output_type": "execute_result"
    }
   ],
   "source": [
    "#Insert/modify your code below\n",
    "1>2 or True #T\n",
    "#Insert/modify your code above"
   ]
  },
  {
   "cell_type": "markdown",
   "metadata": {},
   "source": [
    " ## Exercise 7\n",
    " \n",
    "Write the if, elif, else statements to process a score between 0.0 and 1.0. If the score is out of range, print an error message. If the score is between 0.0 and 1.0, print the grade using the following table:\n",
    "  \n",
    "| Score | Grade |\n",
    "| ----- | ----- |\n",
    "| $\\geq$ 0.9 | A |\n",
    "| $\\geq$ 0.8 | B |\n",
    "| $\\geq$ 0.7 | C |\n",
    "| $\\geq$ 0.6 | D |\n",
    "| $<$ 0.6 | F |\n",
    "\n",
    "\n",
    "Example:\n",
    "score = 0.92  \n",
    "A"
   ]
  },
  {
   "cell_type": "code",
   "execution_count": 13,
   "metadata": {},
   "outputs": [
    {
     "name": "stdout",
     "output_type": "stream",
     "text": [
      "C\n"
     ]
    }
   ],
   "source": [
    "#Insert/modify your code below\n",
    "# Check the slides for an example.\n",
    "# Assign your score, then write code here\n",
    "score = 0.72  \n",
    "\n",
    "#Insert/modify your code below\n",
    "if score <= 1.0 and score >= 0.9:\n",
    "    print('A')\n",
    "elif score < 0.9 and score >= 0.8:\n",
    "    print('B')\n",
    "elif score < 0.8 and score >= 0.7:\n",
    "    print('C')\n",
    "elif score < 0.7 and score >= 0.6:\n",
    "    print('D')\n",
    "elif score < 0.6 and score >= 0.0:\n",
    "    print('F')\n",
    "else: print(\"Not a valid grade\")\n",
    "#Insert/modify your code above"
   ]
  },
  {
   "cell_type": "markdown",
   "metadata": {},
   "source": [
    "Try exercise 7 using the following scores:  \n",
    "0.64  \n",
    "0.86  \n",
    "0.90"
   ]
  },
  {
   "cell_type": "code",
   "execution_count": 14,
   "metadata": {},
   "outputs": [
    {
     "name": "stdout",
     "output_type": "stream",
     "text": [
      "D\n"
     ]
    }
   ],
   "source": [
    "score = 0.64  \n",
    "\n",
    "#Insert/modify your code below\n",
    "if score <= 1.0 and score >= 0.9:\n",
    "    print('A')\n",
    "elif score < 0.9 and score >= 0.8:\n",
    "    print('B')\n",
    "elif score < 0.8 and score >= 0.7:\n",
    "    print('C')\n",
    "elif score < 0.7 and score >= 0.6:\n",
    "    print('D')\n",
    "elif score < 0.6 and score >= 0.0:\n",
    "    print('F')\n",
    "else: print(\"Not a valid grade\")\n",
    "#Insert/modify your code above"
   ]
  },
  {
   "cell_type": "code",
   "execution_count": 15,
   "metadata": {},
   "outputs": [
    {
     "name": "stdout",
     "output_type": "stream",
     "text": [
      "B\n"
     ]
    }
   ],
   "source": [
    "score = 0.86  \n",
    "\n",
    "#Insert/modify your code below\n",
    "if score <= 1.0 and score >= 0.9:\n",
    "    print('A')\n",
    "elif score < 0.9 and score >= 0.8:\n",
    "    print('B')\n",
    "elif score < 0.8 and score >= 0.7:\n",
    "    print('C')\n",
    "elif score < 0.7 and score >= 0.6:\n",
    "    print('D')\n",
    "elif score < 0.6 and score >= 0.0:\n",
    "    print('F')\n",
    "else: print(\"Not a valid grade\")\n",
    "#Insert/modify your code above"
   ]
  },
  {
   "cell_type": "code",
   "execution_count": 16,
   "metadata": {},
   "outputs": [
    {
     "name": "stdout",
     "output_type": "stream",
     "text": [
      "A\n"
     ]
    }
   ],
   "source": [
    "score = 0.90  \n",
    "\n",
    "#Insert/modify your code below\n",
    "if score <= 1.0 and score >= 0.9:\n",
    "    print('A')\n",
    "elif score < 0.9 and score >= 0.8:\n",
    "    print('B')\n",
    "elif score < 0.8 and score >= 0.7:\n",
    "    print('C')\n",
    "elif score < 0.7 and score >= 0.6:\n",
    "    print('D')\n",
    "elif score < 0.6 and score >= 0.0:\n",
    "    print('F')\n",
    "else: print(\"Not a valid grade\")\n",
    "#Insert/modify your code above"
   ]
  }
 ],
 "metadata": {
  "kernelspec": {
   "display_name": "Python 3",
   "language": "python",
   "name": "python3"
  },
  "language_info": {
   "codemirror_mode": {
    "name": "ipython",
    "version": 3
   },
   "file_extension": ".py",
   "mimetype": "text/x-python",
   "name": "python",
   "nbconvert_exporter": "python",
   "pygments_lexer": "ipython3",
   "version": "3.8.5"
  },
  "varInspector": {
   "cols": {
    "lenName": 16,
    "lenType": 16,
    "lenVar": 40
   },
   "kernels_config": {
    "python": {
     "delete_cmd_postfix": "",
     "delete_cmd_prefix": "del ",
     "library": "var_list.py",
     "varRefreshCmd": "print(var_dic_list())"
    },
    "r": {
     "delete_cmd_postfix": ") ",
     "delete_cmd_prefix": "rm(",
     "library": "var_list.r",
     "varRefreshCmd": "cat(var_dic_list()) "
    }
   },
   "types_to_exclude": [
    "module",
    "function",
    "builtin_function_or_method",
    "instance",
    "_Feature"
   ],
   "window_display": false
  }
 },
 "nbformat": 4,
 "nbformat_minor": 4
}
