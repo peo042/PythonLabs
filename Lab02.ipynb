{
 "cells": [
  {
   "cell_type": "markdown",
   "metadata": {},
   "source": [
    "# Lab 02\n",
    "### IS6713 - Data Foundations  \n",
    "\n",
    "Instructions:\n",
    "1. Add the lines of code required to obtain the requested output.\n",
    "2. The code should be inserted between the tags:   \n",
    "  \n",
    "    <**Insert (modify) your code below**>  \n",
    "\n",
    "    #insert you code here  \n",
    "\n",
    "    <**Insert (modify) your code above**>  \n",
    "    \n",
    "3. Do not modify other parts of this notebook.  \n",
    "  \n",
    "4. Remember to write in your name and abc123 in the first cell of this notebook.\n",
    "  \n",
    "5. Upload the notebook on Blackboard before the deadline!"
   ]
  },
  {
   "cell_type": "markdown",
   "metadata": {},
   "source": [
    "# Introduction to Python II\n",
    "\n",
    "week 2 - Programming with Python"
   ]
  },
  {
   "cell_type": "code",
   "execution_count": null,
   "metadata": {},
   "outputs": [],
   "source": [
    "# Your Name: Ben Hoffman\n",
    "# abc123: peo042"
   ]
  },
  {
   "cell_type": "markdown",
   "metadata": {},
   "source": [
    "## Exercise 1: Putting it all together\n",
    "\n",
    "Write a program that does the following:\n",
    "\n",
    "- Prints the numbers 1 to 100\n",
    "- For the  numbers 10 to 25 (including 10 and 25), instead of printing the number, print the word \"cheese\".\n",
    "- For numbers 55 to 100 (including 55, but not including 100), instead of printing the number, print the word \"cake\".\n",
    "- For 100 print the word \"Done!\".\n",
    "\n",
    "**Important Python concepts:** print(), if, elif, else, for"
   ]
  },
  {
   "cell_type": "code",
   "execution_count": 5,
   "metadata": {},
   "outputs": [
    {
     "name": "stdout",
     "output_type": "stream",
     "text": [
      "1\n",
      "2\n",
      "3\n",
      "4\n",
      "5\n",
      "6\n",
      "7\n",
      "8\n",
      "9\n",
      "cheese\n",
      "cheese\n",
      "cheese\n",
      "cheese\n",
      "cheese\n",
      "cheese\n",
      "cheese\n",
      "cheese\n",
      "cheese\n",
      "cheese\n",
      "cheese\n",
      "cheese\n",
      "cheese\n",
      "cheese\n",
      "cheese\n",
      "cheese\n",
      "26\n",
      "27\n",
      "28\n",
      "29\n",
      "30\n",
      "31\n",
      "32\n",
      "33\n",
      "34\n",
      "35\n",
      "36\n",
      "37\n",
      "38\n",
      "39\n",
      "40\n",
      "41\n",
      "42\n",
      "43\n",
      "44\n",
      "45\n",
      "46\n",
      "47\n",
      "48\n",
      "49\n",
      "50\n",
      "51\n",
      "52\n",
      "53\n",
      "54\n",
      "cake\n",
      "cake\n",
      "cake\n",
      "cake\n",
      "cake\n",
      "cake\n",
      "cake\n",
      "cake\n",
      "cake\n",
      "cake\n",
      "cake\n",
      "cake\n",
      "cake\n",
      "cake\n",
      "cake\n",
      "cake\n",
      "cake\n",
      "cake\n",
      "cake\n",
      "cake\n",
      "cake\n",
      "cake\n",
      "cake\n",
      "cake\n",
      "cake\n",
      "cake\n",
      "cake\n",
      "cake\n",
      "cake\n",
      "cake\n",
      "cake\n",
      "cake\n",
      "cake\n",
      "cake\n",
      "cake\n",
      "cake\n",
      "cake\n",
      "cake\n",
      "cake\n",
      "cake\n",
      "cake\n",
      "cake\n",
      "cake\n",
      "cake\n",
      "cake\n",
      "Done!\n"
     ]
    }
   ],
   "source": [
    "#Insert/modify your code below\n",
    "my_nums = range(1,101,1)\n",
    "\n",
    "for i in my_nums:\n",
    "    if i >=10 and i <= 25:\n",
    "        print(\"cheese\")\n",
    "    elif i >=55 and i < 100:\n",
    "        print(\"cake\")\n",
    "    elif i == 100:\n",
    "        print(\"Done!\")\n",
    "    else:\n",
    "        print(i)\n",
    "#Insert/modify your code above"
   ]
  },
  {
   "cell_type": "markdown",
   "metadata": {},
   "source": [
    "## Exercise 2\n",
    "\n",
    "Write a program which repeatedly reads numbers until the user enters “done”. Once “done” is entered, print out the total, count, and average of the numbers. If the user enters anything other than a number, detect their mistake using try and except and print an error message and skip to the next number.\n",
    "\n",
    "What the code should look like when running:\n",
    "```\n",
    "Enter a number: 4\n",
    "Enter a number: 5\n",
    "Enter a number: bad data\n",
    "Invalid input\n",
    "Enter a number: 7\n",
    "Enter a number: done\n",
    "16 3 5.33333333333\n",
    "```\n",
    "\n",
    "**Important Python concepts:** print(), try, except, break, while"
   ]
  },
  {
   "cell_type": "code",
   "execution_count": 40,
   "metadata": {},
   "outputs": [
    {
     "name": "stdout",
     "output_type": "stream",
     "text": [
      "Enter a number: 4\n",
      "Enter a number: 5\n",
      "Enter a number: bad data\n",
      "Invalid input\n",
      "Enter a number: 7\n",
      "Enter a number: done\n",
      "16 3 5.333333333333333\n"
     ]
    }
   ],
   "source": [
    "#Insert/modify your code below\n",
    "number = input(\"Enter a number: \")\n",
    "number1 = 0\n",
    "cnt = 0\n",
    "\n",
    "while number != 'done':\n",
    "    try:\n",
    "        number1 = int(number) + number1\n",
    "        cnt+= 1\n",
    "        number = input(\"Enter a number: \")\n",
    "        if number == 'done':\n",
    "            break\n",
    "    except:\n",
    "        print(\"Invalid input\")\n",
    "        number = input(\"Enter a number: \")\n",
    "\n",
    "print(number1, cnt, number1/cnt)\n",
    "#Insert/modify your code above"
   ]
  },
  {
   "cell_type": "code",
   "execution_count": 39,
   "metadata": {},
   "outputs": [],
   "source": [
    "# Here is another solution to study\n"
   ]
  },
  {
   "cell_type": "code",
   "execution_count": 32,
   "metadata": {},
   "outputs": [],
   "source": [
    "# Here is one more solution to study\n"
   ]
  },
  {
   "cell_type": "markdown",
   "metadata": {},
   "source": [
    "## Exercise 3\n",
    "\n",
    "Write a program that counts how many times each letter appears in a string. The counts for each character should be stored in a dictionary where the character is the key and the value is the count. Print the dictionary at the end.\n",
    "\n",
    "Given the string **'aaabbc'**, the output should be a dictionary **{'a':3, 'b':2, 'c':1}**.\n",
    "\n",
    "We are effectively computing a histogram, which is a statistical term for a set of counters (or frequencies).\n",
    "\n",
    "**Important Python concepts:** dict ({}), for"
   ]
  },
  {
   "cell_type": "code",
   "execution_count": 44,
   "metadata": {},
   "outputs": [],
   "source": [
    "word = 'brontosaurus'"
   ]
  },
  {
   "cell_type": "code",
   "execution_count": 50,
   "metadata": {},
   "outputs": [],
   "source": [
    "# Write code to count the number of times each character appears in \"brontosaurus\" here\n",
    "D = dict()\n",
    "\n",
    "for i in word:\n",
    "    if i not in D:\n",
    "        D[i] = 1\n",
    "    else:\n",
    "        D[i] += 1"
   ]
  },
  {
   "cell_type": "code",
   "execution_count": 51,
   "metadata": {},
   "outputs": [
    {
     "name": "stdout",
     "output_type": "stream",
     "text": [
      "{'b': 1, 'r': 2, 'o': 2, 'n': 1, 't': 1, 's': 2, 'a': 1, 'u': 2}\n"
     ]
    }
   ],
   "source": [
    "# Print dictionary here\n",
    "print(D)"
   ]
  },
  {
   "cell_type": "markdown",
   "metadata": {},
   "source": [
    "## Exercise 4\n",
    "\n",
    "Read the file 'mbox-short.txt' line-by-line and calculate (and print) the following:\n",
    "- The total number of lines in the file.\n",
    "- The number of lines that contain the substring 'From:'\n",
    "\n",
    "**Note:** When opening 'mbox-short.txt', use the path './mbox-short.txt'\n",
    "\n",
    "**Important Python concepts:** for, if, open(), \"in\" with strings."
   ]
  },
  {
   "cell_type": "code",
   "execution_count": 67,
   "metadata": {},
   "outputs": [],
   "source": [
    "# Write code to count the total number of lines (variable linesTotal) and the number of lines with \"From:\" (variable linesFrom)\n",
    "# Write the code here\n",
    "file_handle = open('./mbox-short.txt')\n",
    "\n",
    "linesTotal = 0\n",
    "linesFrom = 0\n",
    "\n",
    "for line in file_handle:\n",
    "    linesTotal +=1\n",
    "    \n",
    "    if \"From:\" in line:\n",
    "        linesFrom += 1"
   ]
  },
  {
   "cell_type": "code",
   "execution_count": 68,
   "metadata": {},
   "outputs": [
    {
     "name": "stdout",
     "output_type": "stream",
     "text": [
      "1909\n",
      "27\n"
     ]
    }
   ],
   "source": [
    "# Print the two counts here\n",
    "print(linesTotal)\n",
    "print(linesFrom)"
   ]
  },
  {
   "cell_type": "code",
   "execution_count": 69,
   "metadata": {},
   "outputs": [
    {
     "name": "stdout",
     "output_type": "stream",
     "text": [
      "['a', 'b', 'c', 'd', 'e', 'f']\n"
     ]
    }
   ],
   "source": [
    "s_l = ['k', 'x', 'y', 'h', 'g', 'f', 'e', 'd', 'c', 'b', 'a']\n",
    "t= s_l[5:]\n",
    "t.sort()\n",
    "print(t)"
   ]
  }
 ],
 "metadata": {
  "kernelspec": {
   "display_name": "Python 3",
   "language": "python",
   "name": "python3"
  },
  "language_info": {
   "codemirror_mode": {
    "name": "ipython",
    "version": 3
   },
   "file_extension": ".py",
   "mimetype": "text/x-python",
   "name": "python",
   "nbconvert_exporter": "python",
   "pygments_lexer": "ipython3",
   "version": "3.8.5"
  },
  "varInspector": {
   "cols": {
    "lenName": 16,
    "lenType": 16,
    "lenVar": 40
   },
   "kernels_config": {
    "python": {
     "delete_cmd_postfix": "",
     "delete_cmd_prefix": "del ",
     "library": "var_list.py",
     "varRefreshCmd": "print(var_dic_list())"
    },
    "r": {
     "delete_cmd_postfix": ") ",
     "delete_cmd_prefix": "rm(",
     "library": "var_list.r",
     "varRefreshCmd": "cat(var_dic_list()) "
    }
   },
   "types_to_exclude": [
    "module",
    "function",
    "builtin_function_or_method",
    "instance",
    "_Feature"
   ],
   "window_display": false
  }
 },
 "nbformat": 4,
 "nbformat_minor": 2
}
