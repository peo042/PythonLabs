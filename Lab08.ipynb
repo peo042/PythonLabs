{
 "cells": [
  {
   "cell_type": "markdown",
   "metadata": {},
   "source": [
    "# Lab 08\n",
    "### IS6713 \n",
    "\n",
    "Instructions:\n",
    "1. Add the lines of code required to obtain the requested output.\n",
    "\n",
    "2. The code should be inserted where requested   \n",
    "   \n",
    "3. Do not modify other parts of this notebook.  \n",
    "  \n",
    "4. Remember to write in your name and abc123 in the first cell of this notebook.\n",
    "  \n",
    "5. Upload the notebook on Blackboard before the deadline!\n",
    "__________________________________________________________\n",
    "\n",
    "Name: Ben Hoffman\n",
    "abc123: peo042"
   ]
  },
  {
   "cell_type": "markdown",
   "metadata": {},
   "source": [
    "## Exercise 8.1\n",
    "### Analyze Frankenstein_excerpt.txt following the steps described below:\n",
    "(reference: video textProcessing)\n",
    "\n",
    "- Normalize (lower case)\n",
    "- Tokenize (use nltk.word_tokenize())\n",
    "- Eliminate the stop-words\n",
    "- Eliminate the punctuation\n",
    "- Lemmatize\n",
    "- Calculate the Frequency\n",
    "- Print the 25 most frequent terms\n",
    "- Plot the 25 most frequent terms"
   ]
  },
  {
   "cell_type": "code",
   "execution_count": 1,
   "metadata": {},
   "outputs": [],
   "source": [
    "# Load raw text\n",
    "fhandle = open(\"Frankenstein_excerpt.txt\")\n",
    "text = ''\n",
    "for line in fhandle:\n",
    "    text += line.strip() + ' '\n",
    "fhandle.close()\n",
    "## Trim out the initial comments. \n",
    "textRaw = text[250:]   # text is the raw text we are working with"
   ]
  },
  {
   "cell_type": "code",
   "execution_count": 2,
   "metadata": {},
   "outputs": [],
   "source": [
    "# Step 1: Normalize\n",
    "# write your code here\n",
    "txtlow = textRaw.lower()"
   ]
  },
  {
   "cell_type": "code",
   "execution_count": 3,
   "metadata": {},
   "outputs": [],
   "source": [
    "import nltk\n",
    "# Step 2: Tokenize (use nltk.word_tokenize())\n",
    "# write your code here\n",
    "token = nltk.word_tokenize(txtlow)"
   ]
  },
  {
   "cell_type": "code",
   "execution_count": 4,
   "metadata": {},
   "outputs": [],
   "source": [
    "# Step 3: Eliminate the stop-words\n",
    "# write your code here\n",
    "from nltk.corpus import stopwords\n",
    "\n",
    "stops = set(stopwords.words('english'))\n",
    "\n",
    "stop_tok = [x for x in token if x not in stops]"
   ]
  },
  {
   "cell_type": "code",
   "execution_count": 5,
   "metadata": {},
   "outputs": [],
   "source": [
    "# Step 4: Eliminate the punctuation\n",
    "# write your code here\n",
    "import string\n",
    "\n",
    "def removepun(text):\n",
    "    no_pun = \"\".join([p for p in text if p not in string.punctuation])\n",
    "    return no_pun\n",
    "\n",
    "pun_tok = []\n",
    "\n",
    "for s in stop_tok:\n",
    "    clean = removepun(s)\n",
    "    if len(clean.strip())>1:\n",
    "        pun_tok.append(clean.strip())"
   ]
  },
  {
   "cell_type": "code",
   "execution_count": 6,
   "metadata": {},
   "outputs": [],
   "source": [
    "# Step 5: Lemmatize\n",
    "# write your code here\n",
    "from nltk.stem import WordNetLemmatizer\n",
    "\n",
    "Lemma= WordNetLemmatizer()\n",
    "franklemma = []\n",
    "\n",
    "for x in pun_tok:\n",
    "    franklemma.append(Lemma.lemmatize(x, pos='v'))"
   ]
  },
  {
   "cell_type": "code",
   "execution_count": 7,
   "metadata": {},
   "outputs": [],
   "source": [
    "# Step 6: Calculate the Frequency\n",
    "# write your code here\n",
    "import operator\n",
    "\n",
    "freq = {}\n",
    "\n",
    "for l in franklemma:\n",
    "    if l not in freq:\n",
    "        freq[l] = 1\n",
    "    else:\n",
    "        freq[l] += 1\n",
    "\n",
    "sortedfreq = sorted(freq.items(), key = operator.itemgetter(1), reverse = True)"
   ]
  },
  {
   "cell_type": "code",
   "execution_count": 8,
   "metadata": {},
   "outputs": [
    {
     "name": "stdout",
     "output_type": "stream",
     "text": [
      "[('may', 10), ('voyage', 5), ('dear', 4), ('feel', 4), ('shall', 4), ('many', 4), ('petersburgh', 3), ('sister', 3), ('undertake', 3), ('north', 3), ('cold', 3), ('pole', 3), ('present', 3), ('margaret', 3), ('discover', 3), ('never', 3), ('heaven', 3), ('purpose', 3), ('years', 3), ('life', 3), ('might', 3), ('pass', 3), ('great', 3), ('letter', 2), ('st', 2)]\n"
     ]
    }
   ],
   "source": [
    "# Step 7: Print the 25 most frequent terms\n",
    "# write your code here\n",
    "print(sortedfreq[:25])"
   ]
  },
  {
   "cell_type": "code",
   "execution_count": 9,
   "metadata": {},
   "outputs": [
    {
     "data": {
      "image/png": "[encoded data removed]",
      "text/plain": [
       "<Figure size 432x288 with 1 Axes>"
      ]
     },
     "metadata": {
      "needs_background": "light"
     },
     "output_type": "display_data"
    },
    {
     "data": {
      "text/plain": [
       "<AxesSubplot:xlabel='Samples', ylabel='Counts'>"
      ]
     },
     "execution_count": 9,
     "metadata": {},
     "output_type": "execute_result"
    }
   ],
   "source": [
    "# Step 8: Plot the 25 most frequent terms\n",
    "# write your code here\n",
    "freqnltk = nltk.FreqDist(franklemma)\n",
    "freqnltk.plot(25, cumulative = False)"
   ]
  },
  {
   "cell_type": "markdown",
   "metadata": {},
   "source": [
    "## Exercise 8.2 \n",
    "### IRIS\n",
    "Do the following:\n",
    "- Load the **iris.csv** dataset into a numpy array. The first 4 columns are the  features/attributes. The last column is the class. Simply load the class as a list of strings. You can use the CVS method to load the features into a list of lists (X) and to load the gold label as a list (y). Then, convert X and y into a numpy array (hint: use np.array() for the conversion).\n",
    "- Use train_test_split() to split the iris dataset into train and test. (use 0.2 for the test_size)\n",
    "- Train an SVM classifier on the train split and evaluate it using accuracy on the test split.\n",
    "- Try using a different classifier, a random forest, and see how it compares to the SVM classifier.  \n",
    "  \n",
    "Note that this is a toy dataset, so all scores will be high."
   ]
  },
  {
   "cell_type": "code",
   "execution_count": 10,
   "metadata": {},
   "outputs": [],
   "source": [
    "## STep 1 Load the data\n",
    "import csv\n",
    "import numpy as np\n",
    "X = [] # Will be a list of lists\n",
    "y = [] # will be a list\n",
    "\n",
    "## Write below your code\n",
    "with open('iris.csv') as infile:\n",
    "    for row in infile:\n",
    "        column = row.strip().split(',')\n",
    "        X.append([float(x) for x in column[:-1]])\n",
    "        y.append(column[-1])\n",
    "\n",
    "x = np.array(X)\n",
    "y = np.array(y)"
   ]
  },
  {
   "cell_type": "code",
   "execution_count": 11,
   "metadata": {},
   "outputs": [],
   "source": [
    "assert(len(set(y))==3)"
   ]
  },
  {
   "cell_type": "code",
   "execution_count": 12,
   "metadata": {},
   "outputs": [],
   "source": [
    "### Step 2: Split data in train and test\n",
    "from sklearn.model_selection import train_test_split\n",
    "\n",
    "# Write your code here\n",
    "xtrain, xtest, ytrain, ytest = train_test_split(x,y,test_size=.3, random_state=0)"
   ]
  },
  {
   "cell_type": "code",
   "execution_count": 13,
   "metadata": {},
   "outputs": [
    {
     "name": "stdout",
     "output_type": "stream",
     "text": [
      "SVM Accuracy: 0.9777777777777777\n"
     ]
    }
   ],
   "source": [
    "### Step 3: Train a SVM classifier, predict the labels, and calculate the accuracy\n",
    "from sklearn.svm import SVC\n",
    "from sklearn.metrics import accuracy_score\n",
    "\n",
    "# Write your code here\n",
    "clf_svm = SVC()\n",
    "clf_svm.fit(xtrain, ytrain)\n",
    "\n",
    "svmpred = clf_svm.predict(xtest)\n",
    "svmaccuracy = accuracy_score(ytest, svmpred)\n",
    "\n",
    "print(\"SVM Accuracy: {}\".format(svmaccuracy))"
   ]
  },
  {
   "cell_type": "code",
   "execution_count": 14,
   "metadata": {},
   "outputs": [
    {
     "name": "stdout",
     "output_type": "stream",
     "text": [
      "[[16  0  0]\n",
      " [ 0 17  1]\n",
      " [ 0  0 11]]\n",
      "                 precision    recall  f1-score   support\n",
      "\n",
      "    Iris-setosa       1.00      1.00      1.00        16\n",
      "Iris-versicolor       1.00      0.94      0.97        18\n",
      " Iris-virginica       0.92      1.00      0.96        11\n",
      "\n",
      "       accuracy                           0.98        45\n",
      "      macro avg       0.97      0.98      0.98        45\n",
      "   weighted avg       0.98      0.98      0.98        45\n",
      "\n",
      "RFC Accuracy: 0.9777777777777777\n"
     ]
    }
   ],
   "source": [
    "### Step 4: Train a Random Forest Classifier, predict the labels, measure the accuracy, and print the classification_report\n",
    "from sklearn.ensemble import RandomForestClassifier\n",
    "from sklearn.metrics import classification_report, confusion_matrix, accuracy_score\n",
    "\n",
    "# Write your code here\n",
    "rfc = RandomForestClassifier(n_estimators = 200, random_state = 0)\n",
    "rfc.fit(xtrain, ytrain)\n",
    "\n",
    "rfcpred = rfc.predict(xtest)\n",
    "rfcaccuracy = accuracy_score(ytest, rfcpred)\n",
    "\n",
    "print(confusion_matrix(ytest, rfcpred))\n",
    "print(classification_report(ytest, rfcpred))\n",
    "print(\"RFC Accuracy: {}\".format(rfcaccuracy))"
   ]
  }
 ],
 "metadata": {
  "kernelspec": {
   "display_name": "Python 3",
   "language": "python",
   "name": "python3"
  },
  "language_info": {
   "codemirror_mode": {
    "name": "ipython",
    "version": 3
   },
   "file_extension": ".py",
   "mimetype": "text/x-python",
   "name": "python",
   "nbconvert_exporter": "python",
   "pygments_lexer": "ipython3",
   "version": "3.8.5"
  },
  "varInspector": {
   "cols": {
    "lenName": 16,
    "lenType": 16,
    "lenVar": 40
   },
   "kernels_config": {
    "python": {
     "delete_cmd_postfix": "",
     "delete_cmd_prefix": "del ",
     "library": "var_list.py",
     "varRefreshCmd": "print(var_dic_list())"
    },
    "r": {
     "delete_cmd_postfix": ") ",
     "delete_cmd_prefix": "rm(",
     "library": "var_list.r",
     "varRefreshCmd": "cat(var_dic_list()) "
    }
   },
   "types_to_exclude": [
    "module",
    "function",
    "builtin_function_or_method",
    "instance",
    "_Feature"
   ],
   "window_display": false
  }
 },
 "nbformat": 4,
 "nbformat_minor": 4
}
