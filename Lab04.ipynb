{
 "cells": [
  {
   "cell_type": "markdown",
   "metadata": {},
   "source": [
    "# Lab 04\n",
    "### IS6713\n",
    "\n",
    "Instructions:\n",
    "1. Add the lines of code required to obtain the requested output.\n",
    "\n",
    "2. The code should be inserted where requested   \n",
    "   \n",
    "3. Do not modify other parts of this notebook.  \n",
    "  \n",
    "4. Remember to write in your name and abc123 in the first cell of this notebook.\n",
    "  \n",
    "5. Upload the notebook on Blackboard before the deadline!\n",
    "__________________________________________________________"
   ]
  },
  {
   "cell_type": "code",
   "execution_count": 1,
   "metadata": {},
   "outputs": [],
   "source": [
    "#Name: Ben Hoffman\n",
    "#abc123: peo042"
   ]
  },
  {
   "cell_type": "markdown",
   "metadata": {},
   "source": [
    "## Exercise 1\n",
    "\n",
    "Write code that reads the file line-by-line numbers.txt, then does the following:\n",
    "\n",
    "- Sum all the numbers in numbers.txt, then prints the numbers to the screen.\n",
    "\n",
    "Next, append the string \"SUM: k\", where k is the calculated sum. to the end of numbers.txt as a new line.\n",
    "\n",
    "Finally, print the entire file to make sure you appended to the file correctly.\n",
    "\n",
    "The absolute path for the file is \"../numbers.txt\"\n",
    "\n",
    "**Important Python concepts:** for, open ('a' and 'r'), write(), print()"
   ]
  },
  {
   "cell_type": "code",
   "execution_count": 2,
   "metadata": {},
   "outputs": [
    {
     "name": "stdout",
     "output_type": "stream",
     "text": [
      "42\n",
      "18\n",
      "22\n",
      "18\n"
     ]
    }
   ],
   "source": [
    "# If you mess up the file and need to try again, run this cell\n",
    "with open('numbers.txt', 'w') as in_file:\n",
    "    in_file.write('42\\n18\\n22\\n18')\n",
    "with open(\"numbers.txt\") as iFile:\n",
    "    print(iFile.read())"
   ]
  },
  {
   "cell_type": "code",
   "execution_count": 3,
   "metadata": {},
   "outputs": [
    {
     "name": "stdout",
     "output_type": "stream",
     "text": [
      "42\n",
      "18\n",
      "22\n",
      "18\n"
     ]
    }
   ],
   "source": [
    "# Write code to read file and calculate sum here\n",
    "toopen = open(\"numbers.txt\", newline = '')\n",
    "total = 0\n",
    "for line in toopen:\n",
    "    print(line.strip())\n",
    "    total += int(line)\n",
    "toopen.close()\n",
    "    "
   ]
  },
  {
   "cell_type": "code",
   "execution_count": 4,
   "metadata": {},
   "outputs": [
    {
     "name": "stdout",
     "output_type": "stream",
     "text": [
      "100\n"
     ]
    }
   ],
   "source": [
    "# Print sum here\n",
    "print(total)"
   ]
  },
  {
   "cell_type": "code",
   "execution_count": 5,
   "metadata": {},
   "outputs": [],
   "source": [
    "# Write code to append to file here\n",
    "towrite = open(\"numbers.txt\", 'a')\n",
    "towrite.write(\"\\nSUM: {}\".format(total))\n",
    "towrite.close()"
   ]
  },
  {
   "cell_type": "markdown",
   "metadata": {},
   "source": [
    "Run the line below to check your work"
   ]
  },
  {
   "cell_type": "code",
   "execution_count": 6,
   "metadata": {},
   "outputs": [
    {
     "name": "stdout",
     "output_type": "stream",
     "text": [
      "42\n",
      "18\n",
      "22\n",
      "18\n",
      "SUM: 100\n"
     ]
    }
   ],
   "source": [
    "with open(\"numbers.txt\") as iFile:\n",
    "    print(iFile.read())"
   ]
  },
  {
   "cell_type": "markdown",
   "metadata": {},
   "source": [
    "## Exercise 2\n",
    "\n",
    "Write code that reads the csv file \"housing_prices.csv\" and calculate/print the following:\n",
    "- Calculate and print the sum of all house prices. Do not use the sum() method\n",
    "- Calculate and print the average price. Do not use any external packages.\n",
    "- Calculate and print the max price (all prices are > 0). Do not use the max() method.\n",
    "- Print the name of the street that contains the house with the most expensive house.\n",
    "\n",
    "The path for the file is \"../house_prices.csv\".\n",
    "\n",
    "**Important Python concepts:** for, lists, open ('r'), if (>)\n",
    "\n",
    "Run the cell below to view the \"house_prices.csv\" file."
   ]
  },
  {
   "cell_type": "code",
   "execution_count": 7,
   "metadata": {},
   "outputs": [
    {
     "name": "stdout",
     "output_type": "stream",
     "text": [
      "\"street name\",\"square feet\",\"price\"\n",
      "\"Sreet 1\",400,10000\n",
      "\"Street 2\",650,15000\n",
      "\"Street 3\",1000,20000\n",
      "\n"
     ]
    }
   ],
   "source": [
    "with open(\"house_prices.csv\") as iFile:\n",
    "    print(iFile.read())"
   ]
  },
  {
   "cell_type": "code",
   "execution_count": 8,
   "metadata": {},
   "outputs": [
    {
     "name": "stdout",
     "output_type": "stream",
     "text": [
      "Sum of house prices:  45000\n",
      "Average house price:  15000.0\n",
      "Max house price:  20000\n",
      "Street name of most expensive house:  Street 3\n"
     ]
    }
   ],
   "source": [
    "import csv\n",
    "# Write code here\n",
    "toopen = open('house_prices.csv', newline= '')\n",
    "mycsv = csv.reader(toopen, delimiter = ',')\n",
    "total, cnt, avg, maxp, street = 0, 0, 0, 0, ''\n",
    "isHeader = True\n",
    "\n",
    "for line in mycsv:\n",
    "    if isHeader:\n",
    "        isHeader = False\n",
    "    else:\n",
    "        total += int(line[2])\n",
    "        cnt += 1\n",
    "        avg = total/cnt\n",
    "        if (int(line[2])>maxp):\n",
    "            maxp = int(line[2])\n",
    "            street = line[0]\n",
    "toopen.close()\n",
    "\n",
    "print(\"Sum of house prices: \", total)\n",
    "print(\"Average house price: \", avg)\n",
    "print(\"Max house price: \", maxp)\n",
    "print(\"Street name of most expensive house: \", street)"
   ]
  },
  {
   "cell_type": "markdown",
   "metadata": {},
   "source": [
    "## Exercise 3\n",
    "\n",
    "Given the following list of lists\n",
    "\n",
    "myData = [['name','department','birthday month'], ['JohnDoe','Marketing','November'],['Jane Smith', 'IT', 'March']]\n",
    "\n",
    "create a csv file that is delimited with the tab ('\\t') character using the csv.writer() method. Name the file \"employee_birthday.csv\"."
   ]
  },
  {
   "cell_type": "code",
   "execution_count": 9,
   "metadata": {},
   "outputs": [],
   "source": [
    "myData = [['name','department','birthday month'], ['John Doe','Marketing','November'],['Jane Smith', 'IT', 'March']]"
   ]
  },
  {
   "cell_type": "code",
   "execution_count": 23,
   "metadata": {},
   "outputs": [],
   "source": [
    "# write code to write the list of lists above to the CSV file \"employee_birthday.csv\"\n",
    "import csv\n",
    "toopen = open('employee_birthday.csv', 'w')\n",
    "towrite = csv.writer(toopen, delimiter = '\\t')\n",
    "towrite.writerow (myData)\n",
    "toopen.close()"
   ]
  },
  {
   "cell_type": "markdown",
   "metadata": {},
   "source": [
    "Run the line below to check your work:"
   ]
  },
  {
   "cell_type": "code",
   "execution_count": 21,
   "metadata": {},
   "outputs": [
    {
     "name": "stdout",
     "output_type": "stream",
     "text": [
      "['name', 'department', 'birthday month']\t['John Doe', 'Marketing', 'November']\t['Jane Smith', 'IT', 'March']\n",
      "\n",
      "\n"
     ]
    },
    {
     "ename": "TypeError",
     "evalue": "'_io.TextIOWrapper' object is not subscriptable",
     "output_type": "error",
     "traceback": [
      "\u001b[1;31m---------------------------------------------------------------------------\u001b[0m",
      "\u001b[1;31mTypeError\u001b[0m                                 Traceback (most recent call last)",
      "\u001b[1;32m<ipython-input-21-07db40ea6e6d>\u001b[0m in \u001b[0;36m<module>\u001b[1;34m\u001b[0m\n\u001b[0;32m      2\u001b[0m     \u001b[0mprint\u001b[0m\u001b[1;33m(\u001b[0m\u001b[0minFile\u001b[0m\u001b[1;33m.\u001b[0m\u001b[0mread\u001b[0m\u001b[1;33m(\u001b[0m\u001b[1;33m)\u001b[0m\u001b[1;33m)\u001b[0m\u001b[1;33m\u001b[0m\u001b[1;33m\u001b[0m\u001b[0m\n\u001b[0;32m      3\u001b[0m \u001b[1;33m\u001b[0m\u001b[0m\n\u001b[1;32m----> 4\u001b[1;33m \u001b[0mprint\u001b[0m\u001b[1;33m(\u001b[0m\u001b[0minFile\u001b[0m\u001b[1;33m[\u001b[0m\u001b[1;36m0\u001b[0m\u001b[1;33m]\u001b[0m\u001b[1;33m.\u001b[0m\u001b[0mpop\u001b[0m\u001b[1;33m(\u001b[0m\u001b[1;33m)\u001b[0m\u001b[1;33m)\u001b[0m\u001b[1;33m\u001b[0m\u001b[1;33m\u001b[0m\u001b[0m\n\u001b[0m",
      "\u001b[1;31mTypeError\u001b[0m: '_io.TextIOWrapper' object is not subscriptable"
     ]
    }
   ],
   "source": [
    "with open(\"employee_birthday.csv\", \"r\") as inFile:\n",
    "    print(inFile.read())\n"
   ]
  },
  {
   "cell_type": "markdown",
   "metadata": {},
   "source": [
    "## Exercise 4\n",
    "\n",
    "A garden center has an XML (plant_catalog.xml) file that stores information, including price, for all plants they sell. The store is having a sale where everything is 20% off. Write a program that that prints the plant \"COMMON\" name, the current price, and the new sale price. An example of what the output should look like is shown below:\n",
    "\n",
    "```\n",
    "Bloodroot $2.44 to $1.95\n",
    "Columbine $9.37 to $7.50\n",
    "Marsh Marigold $6.81 to $5.45\n",
    "...```\n",
    "        \n",
    "File absolute path: \"plant_catalog.xml\"\n",
    "**Hint:** You will need to use \"string indexing\"."
   ]
  },
  {
   "cell_type": "code",
   "execution_count": 12,
   "metadata": {},
   "outputs": [
    {
     "name": "stdout",
     "output_type": "stream",
     "text": [
      "<?xml version=\"1.0\" encoding=\"UTF-8\"?>\n",
      "<CATALOG>\n",
      "  <PLANT>\n",
      "    <COMMON>Bloodroot</COMMON>\n",
      "    <BOTANICAL>Sanguinaria canadensis</BOTANICAL>\n",
      "    <ZONE>4</ZONE>\n",
      "    <LIGHT>Mostly Shady</LIGHT>\n",
      "    <PRICE>$2.44</PRICE>\n",
      "    <AVAILABILITY>031599</AVAILABILITY>\n",
      "  </PLANT>\n",
      "  <PLANT>\n",
      "    <COMMON>Columbine</COMMON>\n",
      "    <BOTANICAL>Aquilegia canadensis</BOTANICAL>\n",
      "    <ZONE>3</ZONE>\n",
      "    <LIGHT>Mostly Shady</LIGHT>\n",
      "    <PRICE>$9.37</PRICE>\n",
      "    <AVAILABILITY>030699</AVAILABILITY>\n",
      "  </PLANT>\n",
      "  <PLANT>\n",
      "    <COMMON>Marsh Marigold</COMMON>\n",
      "    <BOTANICAL>Caltha palustris</BOTANICAL>\n",
      "    <ZONE>4</ZONE>\n",
      "    <LIGHT>Mostly Sunny</LIGHT>\n",
      "    <PRICE>$6.81</PRICE>\n",
      "    <AVAILABILITY>051799</AVAILABILITY>\n",
      "  </PLANT>\n",
      "\n"
     ]
    }
   ],
   "source": [
    "# Use this code to look at the structure of plant_catalog.xml\n",
    "# n = number of lines to show\n",
    "n = 26\n",
    "with open(\"plant_catalog.xml\") as myfile:\n",
    "    head = [next(myfile) for x in range(n)]\n",
    "print(''.join(head))"
   ]
  },
  {
   "cell_type": "code",
   "execution_count": 13,
   "metadata": {},
   "outputs": [
    {
     "name": "stdout",
     "output_type": "stream",
     "text": [
      "Bloodroot: $2.44 to $1.95\n",
      "Columbine: $9.37 to $7.50\n",
      "Marsh Marigold: $6.81 to $5.45\n",
      "Cowslip: $9.90 to $7.92\n",
      "Dutchman's-Breeches: $6.44 to $5.15\n",
      "Ginger, Wild: $9.03 to $7.22\n",
      "Hepatica: $4.45 to $3.56\n",
      "Liverleaf: $3.99 to $3.19\n",
      "Jack-In-The-Pulpit: $3.23 to $2.58\n",
      "Mayapple: $2.98 to $2.38\n",
      "Phlox, Woodland: $2.80 to $2.24\n",
      "Phlox, Blue: $5.59 to $4.47\n",
      "Spring-Beauty: $6.59 to $5.27\n",
      "Trillium: $3.90 to $3.12\n",
      "Wake Robin: $3.20 to $2.56\n",
      "Violet, Dog-Tooth: $9.04 to $7.23\n",
      "Trout Lily: $6.94 to $5.55\n",
      "Adder's-Tongue: $9.58 to $7.66\n",
      "Anemone: $8.86 to $7.09\n",
      "Grecian Windflower: $9.16 to $7.33\n",
      "Bee Balm: $4.59 to $3.67\n",
      "Bergamot: $7.16 to $5.73\n",
      "Black-Eyed Susan: $9.80 to $7.84\n",
      "Buttercup: $2.57 to $2.06\n",
      "Crowfoot: $9.34 to $7.47\n",
      "Butterfly Weed: $2.78 to $2.22\n",
      "Cinquefoil: $7.06 to $5.65\n",
      "Primrose: $6.56 to $5.25\n",
      "Gentian: $7.81 to $6.25\n",
      "Blue Gentian: $8.56 to $6.85\n",
      "Jacob's Ladder: $9.26 to $7.41\n",
      "Greek Valerian: $4.36 to $3.49\n",
      "California Poppy: $7.89 to $6.31\n",
      "Shooting Star: $8.60 to $6.88\n",
      "Snakeroot: $5.63 to $4.50\n",
      "Cardinal Flower: $3.02 to $2.42\n"
     ]
    }
   ],
   "source": [
    "# Write code here\n",
    "import xml.etree.cElementTree as ET\n",
    "\n",
    "toopen = open('plant_catalog.xml')\n",
    "xmlstr = toopen.read()\n",
    "toopen.close()\n",
    "\n",
    "tree = ET.fromstring(xmlstr)\n",
    "plants = tree.findall('PLANT')\n",
    "\n",
    "for item in plants:\n",
    "    print(item.find(\"COMMON\").text+': '+ item.find('PRICE').text +(\" to ${0:.2f}\".format(0.8*float(item.find('PRICE').text[1:]))))"
   ]
  },
  {
   "cell_type": "markdown",
   "metadata": {},
   "source": [
    "## Exercise 5\n",
    "\n",
    "Using the \"exampleJSON.json\" file, complete the following tasks:\n",
    "- Load the file into a python dictionary.\n",
    "- Change the email of item with the name \"Gianluca\" to \"gianluca.zanella@utsa.edu\"\n",
    "- Add a new person to the list with the name \"David\" and email \"david@fakeemail.edu\"\n",
    "- Save the new dictionary to a JSON file \"exampleJSON2.json\"\n",
    "\n",
    "File path: exampleJSON.json"
   ]
  },
  {
   "cell_type": "code",
   "execution_count": 14,
   "metadata": {},
   "outputs": [
    {
     "name": "stdout",
     "output_type": "stream",
     "text": [
      "[{\"name\": \"Gianluca\", \"email\": \"JohnLuke.utsa.edu\", \"age\": 102}, {\"name\": \"John\", \"email\": \"john@fake.edu\"}, {\"name\": \"Jane\", \"email\": \"jane@fake.edu\"}, {\"name\": \"David\", \"email\": \"abc@utsa.edu\"}]\n"
     ]
    }
   ],
   "source": [
    "with open(\"exampleJSON.json\") as iFile:\n",
    "    print(iFile.read())"
   ]
  },
  {
   "cell_type": "code",
   "execution_count": 15,
   "metadata": {},
   "outputs": [],
   "source": [
    "# Write code here\n",
    "import json\n",
    "\n",
    "toopen = open('exampleJSON.json')\n",
    "data = {}\n",
    "data['info'] = json.load(toopen)\n",
    "toopen.close()\n",
    "\n",
    "info = data['info']\n",
    "\n",
    "for x in info:\n",
    "    if x['name'] == 'Gianluca':\n",
    "        x['email'] = 'gianluca.zanella@utsa.edu'\n",
    "\n",
    "data['info'].append({'name':'David', 'email':'fakeemail@utsa.edu'})\n",
    "\n",
    "with open('exampleJSON2.json', 'w') as outfile:\n",
    "    json.dump(data, outfile)"
   ]
  },
  {
   "cell_type": "markdown",
   "metadata": {},
   "source": [
    "Run the following cell to check your work"
   ]
  },
  {
   "cell_type": "code",
   "execution_count": 16,
   "metadata": {},
   "outputs": [
    {
     "name": "stdout",
     "output_type": "stream",
     "text": [
      "{\"info\": [{\"name\": \"Gianluca\", \"email\": \"gianluca.zanella@utsa.edu\", \"age\": 102}, {\"name\": \"John\", \"email\": \"john@fake.edu\"}, {\"name\": \"Jane\", \"email\": \"jane@fake.edu\"}, {\"name\": \"David\", \"email\": \"abc@utsa.edu\"}, {\"name\": \"David\", \"email\": \"fakeemail@utsa.edu\"}]}\n"
     ]
    }
   ],
   "source": [
    "# Run this cell to check your code\n",
    "with open(\"exampleJSON2.json\") as iFile:\n",
    "    print(iFile.read())"
   ]
  },
  {
   "cell_type": "markdown",
   "metadata": {},
   "source": [
    "## Exercise 6\n",
    "\n",
    "Write code to loop over the Twitter JSONL file \"twitter.jsonl\" and compute the following:\n",
    "- Count and print the total number of tweets.\n",
    "- Count and print the total number of users are in the dataset. Hint: row['user']['screen_name']\n",
    "- Print the screen name of the user who has the most tweets.\n",
    "\n",
    "**Tip:** Don't process the entire file right away, start by processing 1 to 2 lines.\n",
    "\n",
    "File path: \"twitter.jsonl\"\n",
    "\n",
    "**The file is very large. Can take a long time to open with any editor.**"
   ]
  },
  {
   "cell_type": "markdown",
   "metadata": {},
   "source": [
    "Run the next cell to view the first row line of the file"
   ]
  },
  {
   "cell_type": "code",
   "execution_count": 17,
   "metadata": {},
   "outputs": [
    {
     "name": "stdout",
     "output_type": "stream",
     "text": [
      "{\"truncated\": false, \"full_text\": \"Adam Cole Praises Kevin Owens + A Preview For Next Week\\u2019s ROH Broadcast https://t.co/uIV7TKHs9K\", \"in_reply_to_user_id\": null, \"source\": \"<a href=\\\"https://dlvrit.com/\\\" rel=\\\"nofollow\\\">dlvr.it</a>\", \"entities\": {\"user_mentions\": [], \"symbols\": [], \"urls\": [{\"display_url\": \"dlvr.it/M3sHSw\", \"url\": \"https://t.co/uIV7TKHs9K\", \"expanded_url\": \"http://dlvr.it/M3sHSw\", \"indices\": [72, 95]}], \"hashtags\": []}, \"in_reply_to_screen_name\": null, \"retweeted\": false, \"in_reply_to_status_id\": null, \"display_text_range\": [0, 95], \"id\": 766323071976247296, \"favorite_count\": 1, \"retweet_count\": 0, \"contributors\": null, \"geo\": null, \"id_str\": \"766323071976247296\", \"lang\": \"en\", \"is_quote_status\": false, \"user\": {\"profile_background_tile\": false, \"translator_type\": \"none\", \"location\": \"main; @Kan1shk3\", \"profile_background_color\": \"FFFFFF\", \"default_profile\": false, \"notifications\": false, \"following\": false, \"verified\": false, \"friends_count\": 15, \"entities\": {\"description\": {\"urls\": []}}, \"profile_text_color\": \"333333\", \"profile_use_background_image\": true, \"id\": 2231233110, \"profile_sidebar_fill_color\": \"DDEEF6\", \"is_translation_enabled\": false, \"profile_banner_url\": \"https://pbs.twimg.com/profile_banners/2231233110/1387622004\", \"utc_offset\": null, \"profile_sidebar_border_color\": \"FFFFFF\", \"listed_count\": 34, \"profile_image_url_https\": \"https://pbs.twimg.com/profile_images/414342229096808449/fYvzqXN7_normal.png\", \"description\": \"i sing my own rhythm.\", \"profile_background_image_url_https\": \"https://abs.twimg.com/images/themes/theme1/bg.png\", \"screen_name\": \"sheezy0\", \"follow_request_sent\": false, \"geo_enabled\": false, \"default_profile_image\": false, \"id_str\": \"2231233110\", \"name\": \"\", \"favourites_count\": 0, \"profile_image_url\": \"http://pbs.twimg.com/profile_images/414342229096808449/fYvzqXN7_normal.png\", \"lang\": \"en\", \"followers_count\": 76, \"profile_background_image_url\": \"http://abs.twimg.com/images/themes/theme1/bg.png\", \"is_translator\": false, \"profile_image_extensions_alt_text\": null, \"has_extended_profile\": false, \"protected\": false, \"contributors_enabled\": false, \"time_zone\": null, \"created_at\": \"Thu Dec 05 09:48:45 +0000 2013\", \"url\": null, \"profile_link_color\": \"08C2C2\", \"statuses_count\": 151093}, \"in_reply_to_user_id_str\": null, \"place\": null, \"coordinates\": null, \"possibly_sensitive\": false, \"in_reply_to_status_id_str\": null, \"favorited\": false, \"created_at\": \"Thu Aug 18 17:17:12 +0000 2016\"}\n"
     ]
    }
   ],
   "source": [
    "with open('twitter.jsonl') as iFile:\n",
    "    for row in iFile:\n",
    "        print(row.strip())\n",
    "        break"
   ]
  },
  {
   "cell_type": "code",
   "execution_count": 18,
   "metadata": {},
   "outputs": [
    {
     "name": "stdout",
     "output_type": "stream",
     "text": [
      "Total number of tweets: 10000\n",
      "Total number of users: 4\n",
      "sheezy0 had the most tweets with 3243\n"
     ]
    }
   ],
   "source": [
    "# Write code here\n",
    "import json\n",
    "import re\n",
    "\n",
    "tweets, totalusers, maxtweets, maxuser = 0, 0, 0, ''\n",
    "users = list()\n",
    "user_freq = {}\n",
    "\n",
    "myfile = open('twitter.jsonl')\n",
    "for line in myfile:\n",
    "    linedata = json.loads(line.strip())\n",
    "    tweets += 1\n",
    "    users.append(linedata['user']['screen_name'])\n",
    "myfile.close()\n",
    "\n",
    "totalusers = len(set(users))\n",
    "\n",
    "for i in users:\n",
    "    if i not in user_freq:\n",
    "        user_freq[i] = 1\n",
    "    else:\n",
    "        user_freq[i] += 1\n",
    "\n",
    "for x in user_freq:\n",
    "    if user_freq[x] > maxtweets:\n",
    "        maxtweets = user_freq[x]\n",
    "        maxuser = x\n",
    "        \n",
    "print(\"Total number of tweets:\", tweets)\n",
    "print(\"Total number of users:\", totalusers)\n",
    "print(maxuser, \"had the most tweets with\", maxtweets)\n",
    "    "
   ]
  },
  {
   "cell_type": "markdown",
   "metadata": {},
   "source": [
    "## Exercise 7\n",
    "\n",
    "Write a class named “CheckingAccount” that contains the currentbalanceof the account (an int) and the following methods:\n",
    "\n",
    "- **init** - takes a “balance” parameter to initialize the data (balance)of the object.\n",
    "- **withdraw** - takes an input parameter “amount” and modifies thedata by reducing the balance.  If “amount” results in an overdraw,subtract an extra 20 dollars.  This method should return the balancebalance.\n",
    "- **deposit** - takes an input parameter “amount” and modifies the databy increasing the balance by “amount”.\n",
    "\n",
    "Write a few test cases to check your work"
   ]
  },
  {
   "cell_type": "code",
   "execution_count": 19,
   "metadata": {},
   "outputs": [],
   "source": [
    "## Write your class here\n",
    "class CheckingAccount:\n",
    "    currentbalance = 0\n",
    "    \n",
    "    def __init__(s, balance):\n",
    "        s.currentbalance = balance\n",
    "    \n",
    "    def withdraw(s, amount):\n",
    "        s.currentbalance -= amount\n",
    "        if s.currentbalance < 0:\n",
    "            s.currentbalance -= 20\n",
    "            return print(\"New balance is -${}\".format(abs(s.currentbalance)))\n",
    "        else:\n",
    "            return print(\"New balance is ${}\".format(s.currentbalance))\n",
    "    def deposit(s, amount):\n",
    "        s.currentbalance += amount\n",
    "        if s.currentbalance < 0:\n",
    "            return print(\"New balance is -${}\".format(abs(s.currentbalance)))\n",
    "        else:\n",
    "            return print(\"New balance is ${}\".format(s.currentbalance))"
   ]
  },
  {
   "cell_type": "code",
   "execution_count": 20,
   "metadata": {},
   "outputs": [
    {
     "name": "stdout",
     "output_type": "stream",
     "text": [
      "New balance is $40\n",
      "New balance is $65\n",
      "New balance is -$55\n",
      "New balance is -$5\n"
     ]
    }
   ],
   "source": [
    "## Test your class here\n",
    "Mybal = CheckingAccount(15)\n",
    "\n",
    "Mybal.deposit(25)\n",
    "Mybal.deposit(25)\n",
    "Mybal.withdraw(100)\n",
    "Mybal.deposit(50)"
   ]
  }
 ],
 "metadata": {
  "kernelspec": {
   "display_name": "Python 3",
   "language": "python",
   "name": "python3"
  },
  "language_info": {
   "codemirror_mode": {
    "name": "ipython",
    "version": 3
   },
   "file_extension": ".py",
   "mimetype": "text/x-python",
   "name": "python",
   "nbconvert_exporter": "python",
   "pygments_lexer": "ipython3",
   "version": "3.8.5"
  },
  "varInspector": {
   "cols": {
    "lenName": 16,
    "lenType": 16,
    "lenVar": 40
   },
   "kernels_config": {
    "python": {
     "delete_cmd_postfix": "",
     "delete_cmd_prefix": "del ",
     "library": "var_list.py",
     "varRefreshCmd": "print(var_dic_list())"
    },
    "r": {
     "delete_cmd_postfix": ") ",
     "delete_cmd_prefix": "rm(",
     "library": "var_list.r",
     "varRefreshCmd": "cat(var_dic_list()) "
    }
   },
   "types_to_exclude": [
    "module",
    "function",
    "builtin_function_or_method",
    "instance",
    "_Feature"
   ],
   "window_display": false
  }
 },
 "nbformat": 4,
 "nbformat_minor": 2
}
