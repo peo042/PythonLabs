{
 "cells": [
  {
   "cell_type": "markdown",
   "metadata": {},
   "source": [
    "# IS6713\n",
    "## Homework 1\n",
    "\n",
    "Write your name/abc123 below."
   ]
  },
  {
   "cell_type": "markdown",
   "metadata": {},
   "source": [
    "**Name**: Ben Hoffman\n",
    "\n",
    "**abc123**: peo042\n",
    "\n",
    "Remember, it is okay to talk to your classmates about the homework, but do not share solutions. You should complete the homework on your own. Below, please list all of your peers (\"collaborators\") that you discussed the homework with.\n",
    "\n",
    "**Collaborators**:\n",
    "- Name 1\n",
    "- Name 2\n",
    "- Name 3\n",
    "\n",
    "# Problem Set 1 (PS 1)\n",
    "\n",
    "Complete the 4 functions as directed to:\n",
    "\n",
    "- validate the format of a string\n",
    "- compute probabilities and store them in a lookup table (dictionary)\n",
    "- generate a string deterministically based on a given string\n",
    "\n",
    "Each function is worth 1 to 4 points, for a total of 10 points. Other assignments will be more complicated, and worth more points, for this I just want to make sure you are in the correct course. I care mainly about correctness of the implementation, but reserve the right to deduct points for code that is difficult to read.\n",
    "\n",
    "This assignment will test your skills at implementing algorithms in Python from scratch. If this is your first experience with traditional programming assignments, then it may take some time to figure everything out. Please schedule time to meet with meet with me if you need help. I recommend you start early. For others with significant programming experience, it will not take long.\n",
    "\n",
    "## Submission Instructions\n",
    "\n",
    "After completing the exercises below, generate a PDF *or* HTML of the code **with** outputs. Then, create a zip file containing both the completed exercise and the generated PDF/HTML. You are **required** to check the PDF/HTML to make sure all the code **and** outputs are clearly visible and easy to read. If your code goes off the page, you should reduce the line size. I generally recommend not going over 80 characters.\n",
    "\n",
    "Finally, name the zip file using a combination of the assigment ID and your name, e.g., ps1_rios.zip. Submit your homework on Blackboard.\n",
    "\n",
    "## Preliminary Information\n",
    "\n",
    "For the homework exercises, you will need to write code in the specified functions. The variable specified in the open and close parenthesis \"my_function(**variable_name**)\" of the function should **NOT** be reassigned. They will hold important information---such as the string you should process---which is required to complete each task. Your job is to write code that returns the required value for each exercise. \n",
    "\n",
    "Please refer to the example below to understand how functions work in python:\n",
    "```python\n",
    "def my_function(my_variable):\n",
    "    # Your code goes here\n",
    "    print(\"The parameter is {}\".format(my_variable))\n",
    "    new_variable = my_variable + 100\n",
    "    return new_variable\n",
    "\n",
    "# my_variable in my_function() will be assigned 42.\n",
    "return_value = my_function(42) # return value will be asigned the value given by the \"return\" in my_function()\n",
    "print(\"The function returned the value {}\".format(return_value))\n",
    "```\n",
    "\n",
    "If you run the code above, you will get the following output:\n",
    "```\n",
    "The parameter is 42\n",
    "The function returned the value 142\n",
    "```\n",
    "\n",
    "Please note that you do **NOT** need to create new functions. The functions have already been specified. You simply need to fill them out with code. "
   ]
  },
  {
   "cell_type": "markdown",
   "metadata": {},
   "source": [
    "## Exercise 1 (40 points)"
   ]
  },
  {
   "cell_type": "markdown",
   "metadata": {},
   "source": [
    "Checks whether the string is a valid employee ID. An employee ID is valid if and only if it consists only of 6-10 alphabetic characters (letters), followed by 2 numeric digits. Implement the validation  **without** any external libraries (i.e., do not use the \"re\" package). You may use the .isalpha() and .isdigit() methods, variables, standard data structures such as lists, if statements, loops, etc."
   ]
  },
  {
   "cell_type": "code",
   "execution_count": 1,
   "metadata": {},
   "outputs": [
    {
     "name": "stdout",
     "output_type": "stream",
     "text": [
      "True\n",
      "False\n",
      "True\n",
      "12\n"
     ]
    }
   ],
   "source": [
    "# Example use of .isalpha() and .isdigit(). This code is just to help, you can delete this cell if you want.\n",
    "print(\"32\".isdigit())\n",
    "print(\"lkjsdaf\".isdigit())\n",
    "print(\"lskdjf\".isalpha())\n",
    "print(len(\"ALKJDSLKFJDS\"))"
   ]
  },
  {
   "cell_type": "code",
   "execution_count": 2,
   "metadata": {},
   "outputs": [],
   "source": [
    "# Write code here. Do NOT delete this cell.\n",
    "def validate(s):\n",
    "    # Write code here\n",
    "    alpha = len(s) - 2\n",
    "    return (s[:alpha].isalpha() and s[alpha:].isdigit()) # The code should return a boolean True or boolean False, depending on the input."
   ]
  },
  {
   "cell_type": "markdown",
   "metadata": {},
   "source": [
    "The lines below give example inputs and correct outputs using asserts, and can be run to test the code. Passing these tests is necessary, but **NOT** sufficient to guarantee your implementation is correct. You may add additional test cases, but do not remove any tests."
   ]
  },
  {
   "cell_type": "code",
   "execution_count": 3,
   "metadata": {},
   "outputs": [
    {
     "name": "stdout",
     "output_type": "stream",
     "text": [
      "Asserts Completed Successfully\n"
     ]
    }
   ],
   "source": [
    "assert(validate('AbcdEf00') == True)\n",
    "assert(validate('$0RQLpCHz49') == False)\n",
    "print(\"Asserts Completed Successfully\")"
   ]
  },
  {
   "cell_type": "markdown",
   "metadata": {},
   "source": [
    "## Exercise 2 (30 points)\n",
    "\n",
    "Given a sequence of the DNA bases {A, C, G, T}, stored as a string, returns a probability table in a data structure such that one base can be looked up to get the probability p(base). More specifically, write code to return a dictionary such that the value for each key is the probably of that key occuring the the string. For example, give the string \"abb\", p(a) is equal to $\\frac{1}{3}$ and p(b) is $\\frac{2}{3}$ Simply, divide the number of times each character appears by the total number of characters. So, the code should return the following dictionary:\n",
    "\n",
    "```{\"a\": 0.33333, \"b\": 0.6666}```\n",
    "\n",
    "You may use the collections module, but no other libraries."
   ]
  },
  {
   "cell_type": "code",
   "execution_count": 4,
   "metadata": {},
   "outputs": [],
   "source": [
    "def dna_prob1(seq):\n",
    "    # Write code here\n",
    "    D = dict()\n",
    "    total = len(seq)\n",
    "\n",
    "    for i in seq:\n",
    "        if i not in D:\n",
    "            D[i] = 1\n",
    "        else:\n",
    "            D[i] += 1\n",
    "    \n",
    "    for j,k in D.items():\n",
    "        D[j] = k/total\n",
    "        \n",
    "    return D# The code should return a dictionary"
   ]
  },
  {
   "cell_type": "markdown",
   "metadata": {},
   "source": [
    "The lines below give example inputs and correct outputs using asserts, and can be run to test the code. Passing these tests is **NOT** sufficient to guarantee your implementation is correct. You may add additional test cases, but do not remove any tests."
   ]
  },
  {
   "cell_type": "code",
   "execution_count": 5,
   "metadata": {},
   "outputs": [
    {
     "name": "stdout",
     "output_type": "stream",
     "text": [
      "Asserts Completed Successfully\n"
     ]
    }
   ],
   "source": [
    "tbl = dna_prob1('ATCGATTGAGCTCTAGCG')\n",
    "assert(tbl['T'] == 5/18)\n",
    "assert(tbl['G'] == 5/18)\n",
    "assert(tbl['C'] == 4/18)\n",
    "print(\"Asserts Completed Successfully\")"
   ]
  },
  {
   "cell_type": "markdown",
   "metadata": {},
   "source": [
    "## Exercise 3 (30 points)\n",
    "Given a string representing a sequence of DNA bases, returns the paired sequence, also as a string, where A is always paired with T and C with G, i.e., replace A with T, T with A, ...\n",
    "\n",
    "Do not use any libraries.\n",
    "\n",
    "Hint: this can be done in one line. (More than one line is okay too.)"
   ]
  },
  {
   "cell_type": "code",
   "execution_count": null,
   "metadata": {},
   "outputs": [],
   "source": [
    "def dna_bp(seq):\n",
    "\n",
    "    return seq.replace(\"A\", \"X\").replace(\"T\", \"A\").replace(\"X\", \"T\").replace(\"C\", \"Y\").replace(\"G\", \"C\").replace(\"Y\", \"G\")\n",
    "    \n",
    "    # The code should return a string"
   ]
  },
  {
   "cell_type": "markdown",
   "metadata": {},
   "source": [
    "The lines below give example inputs and correct outputs using asserts, and can be run to test the code. Passing these tests is **NOT** sufficient to guarantee your implementation is correct. You may add additional test cases, but do not remove any tests."
   ]
  },
  {
   "cell_type": "code",
   "execution_count": 14,
   "metadata": {},
   "outputs": [
    {
     "name": "stdout",
     "output_type": "stream",
     "text": [
      "Asserts Completed Successfully\n"
     ]
    }
   ],
   "source": [
    "assert(dna_bp('ATCGATTGAGCTCTAGCG') == 'TAGCTAACTCGAGATCGC')\n",
    "print(\"Asserts Completed Successfully\")"
   ]
  },
  {
   "cell_type": "markdown",
   "metadata": {},
   "source": [
    "## Extra Credit (20 points)\n",
    "\n",
    "Given a sequence of the DNA bases {A, C, G, T}, stored as a string, returns a conditional probability table in a data structure such that one base (b1) can be looked up, and then a second (b2), to get the probability p(b2 | b1) of the second base occurring immediately after the first. (Assumes the length of seq is >= 3, and that the probability of any b1 and b2 which have never been seen together is 0. Ignores the probability that b1 will be followed by the end of the string character.)\n",
    "\n",
    "Here is an example:\n",
    "```\n",
    "GAAAGG\n",
    "```\n",
    "\n",
    "P(A | G) = probability of A given the letter G occured directly before it = 1/2 = 0.5. The denominator is 2 instead of 3 because the last G does not have a letter after it. The denominator should be the number of times a letter appears with annother letter directly after it.\n",
    "\n",
    "P( G | G ) = probability of G given the letter G occured directly before it = 1/2 = 0.5\n",
    "\n",
    "P(G | A) = probability of G given the letter A occured directly before it = 1/3 = 0.33\n",
    "\n",
    "P(A | A) = probability of A given the letter A occured directly before it = 2/3 = .66\n",
    "\n",
    "The dictionary returned by dna_prob2 should be:\n",
    "\n",
    "```\n",
    "{'A': {'A': 2/3, 'G': 1/3, 'T': 0, 'C': 0}, 'G': {'A': 1/2, 'G': 1/2, 'T': 0, 'C': 0}, 'T': {'A': 0, 'T': 0, 'G': 0, 'C': 0}, 'C': {'A': 0, 'G': 0, 'T': 0, 'C': 0}}\n",
    "```\n",
    "\n",
    "Notice this is a \"nested\" dictionary, where the value of the outer dictionary is also a dictionary. All of the keys are strings."
   ]
  },
  {
   "cell_type": "code",
   "execution_count": 8,
   "metadata": {},
   "outputs": [],
   "source": [
    "def dna_prob2(seq):\n",
    "    # Write code here\n",
    "    D = dict()\n",
    "    \n",
    "    for i in seq:\n",
    "        if i not in D:\n",
    "            D[i] = 1\n",
    "        else:\n",
    "            D[i] += 1\n",
    "   \n",
    "    A = int(D['A'])\n",
    "    T = int(D['T'])\n",
    "    G = int(D['G'])\n",
    "    C = int(D['C'])\n",
    "    \n",
    "    for i in seq:\n",
    "        D[i] = {}\n",
    "        j = seq[seq.index(i) + 1]\n",
    "        if j not in D[i]:\n",
    "            D[i][j] = 1\n",
    "        else:\n",
    "            D[i][j] += 1\n",
    "\n",
    "    return D # The code should return a dictionary"
   ]
  },
  {
   "cell_type": "markdown",
   "metadata": {},
   "source": [
    "The lines below give example inputs and correct outputs using asserts, and can be run to test the code. Passing these tests is **NOT** sufficient to guarantee your implementation is correct. You may add additional test cases, but do not remove any tests."
   ]
  },
  {
   "cell_type": "code",
   "execution_count": 9,
   "metadata": {},
   "outputs": [
    {
     "name": "stdout",
     "output_type": "stream",
     "text": [
      "{'A': {'T': 1}, 'T': {'C': 1}, 'C': {'G': 1}, 'G': {'A': 1}}\n"
     ]
    }
   ],
   "source": [
    "tbl = dna_prob2('ATCGATTGAGCTCTAGCG')\n",
    "#assert(tbl['T']['T'] == 0.2)\n",
    "#assert(tbl['G']['A'] == 0.5)\n",
    "#assert(tbl['C']['G'] == 0.5)\n",
    "#print(\"Asserts Completed Successfully\")\n",
    "print (tbl)"
   ]
  }
 ],
 "metadata": {
  "celltoolbar": "Raw Cell Format",
  "kernelspec": {
   "display_name": "Python 3",
   "language": "python",
   "name": "python3"
  },
  "language_info": {
   "codemirror_mode": {
    "name": "ipython",
    "version": 3
   },
   "file_extension": ".py",
   "mimetype": "text/x-python",
   "name": "python",
   "nbconvert_exporter": "python",
   "pygments_lexer": "ipython3",
   "version": "3.8.5"
  },
  "varInspector": {
   "cols": {
    "lenName": 16,
    "lenType": 16,
    "lenVar": 40
   },
   "kernels_config": {
    "python": {
     "delete_cmd_postfix": "",
     "delete_cmd_prefix": "del ",
     "library": "var_list.py",
     "varRefreshCmd": "print(var_dic_list())"
    },
    "r": {
     "delete_cmd_postfix": ") ",
     "delete_cmd_prefix": "rm(",
     "library": "var_list.r",
     "varRefreshCmd": "cat(var_dic_list()) "
    }
   },
   "types_to_exclude": [
    "module",
    "function",
    "builtin_function_or_method",
    "instance",
    "_Feature"
   ],
   "window_display": false
  }
 },
 "nbformat": 4,
 "nbformat_minor": 4
}
